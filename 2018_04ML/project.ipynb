{
 "cells": [
  {
   "cell_type": "markdown",
   "metadata": {},
   "source": [
    "1. If you want to predict future data based on historical data\n",
    "2. If you want to see which combinations of the given data are related to each other\n",
    "\n",
    "Linear regression analysis is mainly used in these two cases.\n",
    "\n",
    "   'If the cumulative number of visitors by Thursday is [X], what is the cumulative number of visitors by that Sunday?' For this project, linear regression analysis was used with an emphasis on function 1 above.\n",
    "   \n",
    "   So I called the visitor data of the CSV file by date as an available object. I was able to easily import data into a DataFrame object using Pandas."
   ]
  },
  {
   "cell_type": "code",
   "execution_count": 3,
   "metadata": {},
   "outputs": [],
   "source": [
    "import time\n",
    "import math\n",
    "import csv\n",
    "import numpy as np\n",
    "import pandas as pd\n",
    "from datetime import datetime, timedelta\n",
    "import matplotlib.pyplot as plt\n",
    "from mpl_toolkits.mplot3d import axes3d\n",
    "from sklearn.linear_model import LinearRegression"
   ]
  },
  {
   "cell_type": "code",
   "execution_count": 4,
   "metadata": {},
   "outputs": [
    {
     "name": "stdout",
     "output_type": "stream",
     "text": [
      "(567, 2)\n"
     ]
    },
    {
     "data": {
      "text/html": [
       "<div>\n",
       "<style scoped>\n",
       "    .dataframe tbody tr th:only-of-type {\n",
       "        vertical-align: middle;\n",
       "    }\n",
       "\n",
       "    .dataframe tbody tr th {\n",
       "        vertical-align: top;\n",
       "    }\n",
       "\n",
       "    .dataframe thead th {\n",
       "        text-align: right;\n",
       "    }\n",
       "</style>\n",
       "<table border=\"1\" class=\"dataframe\">\n",
       "  <thead>\n",
       "    <tr style=\"text-align: right;\">\n",
       "      <th></th>\n",
       "      <th>Date</th>\n",
       "      <th>Number</th>\n",
       "    </tr>\n",
       "  </thead>\n",
       "  <tbody>\n",
       "    <tr>\n",
       "      <th>0</th>\n",
       "      <td>2016-09-05</td>\n",
       "      <td>18304</td>\n",
       "    </tr>\n",
       "    <tr>\n",
       "      <th>1</th>\n",
       "      <td>2016-09-06</td>\n",
       "      <td>24320</td>\n",
       "    </tr>\n",
       "    <tr>\n",
       "      <th>2</th>\n",
       "      <td>2016-09-07</td>\n",
       "      <td>23888</td>\n",
       "    </tr>\n",
       "  </tbody>\n",
       "</table>\n",
       "</div>"
      ],
      "text/plain": [
       "         Date  Number\n",
       "0  2016-09-05   18304\n",
       "1  2016-09-06   24320\n",
       "2  2016-09-07   23888"
      ]
     },
     "execution_count": 4,
     "metadata": {},
     "output_type": "execute_result"
    }
   ],
   "source": [
    "df=pd.read_csv('Desktop/df.csv')\n",
    "df=df.sort_index()\n",
    "df.columns=['Date','Number']\n",
    "print(df.shape)\n",
    "df[:3]"
   ]
  },
  {
   "cell_type": "markdown",
   "metadata": {},
   "source": [
    "   It can be seen that there are 567 pieces of data, that is, 567/7 = 81 weeks.\n",
    "   Let's visualize the number of visitors by date.\n",
    "It ranges from 10,000 to about 40,000, and is concentrated mainly in between 20,000 to 25,000.\n"
   ]
  },
  {
   "cell_type": "code",
   "execution_count": 5,
   "metadata": {},
   "outputs": [
    {
     "data": {
      "image/png": "[encoded data removed]",
      "text/plain": [
       "<matplotlib.figure.Figure at 0x18c3e2dbef0>"
      ]
     },
     "metadata": {},
     "output_type": "display_data"
    }
   ],
   "source": [
    "arr=np.array(df)\n",
    "x_train = arr[:,0] #date\n",
    "y_train = arr[:,1] #number\n",
    "\n",
    "plt.figure(1)#\n",
    "plt.scatter(x_train, y_train, s=30, c='r', marker='x', linewidths=1) \n",
    "plt.title('Training data')\n",
    "plt.xlabel('Date')\n",
    "plt.ylabel('Number of visitors')\n",
    "plt.show()"
   ]
  },
  {
   "cell_type": "markdown",
   "metadata": {},
   "source": [
    "   Now that I have the data, let's do it by machining it according to the model. The regression model, which I have learned, is one of the supervised learning methods. Supervised learning is a method of learning a model by including desired results in learning data. If the result of the inferred function is continuous, it is called regression. If it is discrete, it is called classification.\n",
    "\n",
    "   The goal is to predict the total number of visitors per week when you enter the number of cumulative visitors by a specific day. For this purpose, the number of cumulative visitors per day should be obtained and transmitted as learning data. Also, due to the nature of instructional learning, the 'total number of visitors in the state', which is the desired result, should be provided along with the learning data.\n",
    "\n",
    "   I have calculated the integer index of my current data by changing it to timestamp.\n",
    "   TimeStamp is the time corresponding to the visitor data by date from September 5, 2016 to March 25, 2018, and each week is again seven days from Monday to Sunday. Therefore, the information on the number of accumulated visitors per day for each week should be processed as learning data."
   ]
  },
  {
   "cell_type": "code",
   "execution_count": 6,
   "metadata": {},
   "outputs": [
    {
     "data": {
      "text/html": [
       "<div>\n",
       "<style scoped>\n",
       "    .dataframe tbody tr th:only-of-type {\n",
       "        vertical-align: middle;\n",
       "    }\n",
       "\n",
       "    .dataframe tbody tr th {\n",
       "        vertical-align: top;\n",
       "    }\n",
       "\n",
       "    .dataframe thead th {\n",
       "        text-align: right;\n",
       "    }\n",
       "</style>\n",
       "<table border=\"1\" class=\"dataframe\">\n",
       "  <thead>\n",
       "    <tr style=\"text-align: right;\">\n",
       "      <th></th>\n",
       "      <th>Date</th>\n",
       "      <th>Number</th>\n",
       "    </tr>\n",
       "    <tr>\n",
       "      <th>timestamps</th>\n",
       "      <th></th>\n",
       "      <th></th>\n",
       "    </tr>\n",
       "  </thead>\n",
       "  <tbody>\n",
       "    <tr>\n",
       "      <th>1473004800</th>\n",
       "      <td>2016-09-05</td>\n",
       "      <td>18304</td>\n",
       "    </tr>\n",
       "    <tr>\n",
       "      <th>1473091200</th>\n",
       "      <td>2016-09-06</td>\n",
       "      <td>24320</td>\n",
       "    </tr>\n",
       "    <tr>\n",
       "      <th>1473177600</th>\n",
       "      <td>2016-09-07</td>\n",
       "      <td>23888</td>\n",
       "    </tr>\n",
       "  </tbody>\n",
       "</table>\n",
       "</div>"
      ],
      "text/plain": [
       "                  Date  Number\n",
       "timestamps                    \n",
       "1473004800  2016-09-05   18304\n",
       "1473091200  2016-09-06   24320\n",
       "1473177600  2016-09-07   23888"
      ]
     },
     "execution_count": 6,
     "metadata": {},
     "output_type": "execute_result"
    }
   ],
   "source": [
    "def date_to_ts(dt):\n",
    "    return int(time.mktime(datetime.strptime(dt,\"%Y-%m-%d\").timetuple()))\n",
    "\n",
    "\n",
    "df['timestamps'] = df['Date'].apply(lambda x: date_to_ts(x))\n",
    "df.set_index(df['timestamps'],inplace=True)\n",
    "df=df.drop('timestamps',1)\n",
    "df[:3]"
   ]
  },
  {
   "cell_type": "markdown",
   "metadata": {},
   "source": [
    "1. Declare the convert_to_index function, which allows you to change the datetime date to a timestamp format to filter the index.\n",
    "2. Filter the index by date.\n",
    "3. Use the cumsum command of pandas.DataFrame to create a list of the number of cumulative visitors per day in the 'Number' field.\n",
    "4. Store the cumulative data for Sunday as the total number of visitors per week, which is the data I want.\n",
    "\n",
    "Because this model is a linear regression with one parameter, two-thirds of the total data is used as a train set and the rest as a test set."
   ]
  },
  {
   "cell_type": "code",
   "execution_count": 7,
   "metadata": {},
   "outputs": [],
   "source": [
    "def convert_to_index(dt):\n",
    "    return time.mktime(dt.timetuple())"
   ]
  },
  {
   "cell_type": "code",
   "execution_count": 33,
   "metadata": {},
   "outputs": [
    {
     "name": "stdout",
     "output_type": "stream",
     "text": [
      "[18304, 42624, 66512, 87464, 111780, 134556, 158829]\n",
      "[25515, 49464, 70461, 94487, 117068, 130703, 149338]\n",
      "[158829, 149338, 179848, 172181, 167982, 178999, 179754, 160117, 157346, 166460, 170985, 166618, 163759, 169782, 169806, 162297, 180269, 176232, 177876, 169167, 166525, 170608, 160731, 190272, 149800, 152048, 149753, 175244, 157949, 165876, 153667, 157794, 157153, 153400, 157794, 178426, 155895, 151910, 154245, 147807, 152291, 162656, 157351, 149493, 151978, 146436, 166798, 153487, 154129, 152590, 146989, 138480, 150012, 142552, 131223, 140441, 143611, 134098, 116058, 120201, 125482]\n"
     ]
    },
    {
     "data": {
      "text/plain": [
       "61"
      ]
     },
     "execution_count": 33,
     "metadata": {},
     "output_type": "execute_result"
    }
   ],
   "source": [
    "base_date=datetime(2016,9,5,0,0)\n",
    "\n",
    "L=[]\n",
    "for loop in range(61):\n",
    "    from_index=convert_to_index(base_date)\n",
    "    to_index=convert_to_index(base_date + timedelta(days=7))\n",
    "    data=df[(from_index<=df.index) & (df.index<to_index)]\n",
    "    L.append(data.Number.cumsum().tolist())\n",
    "    \n",
    "    base_date=base_date + timedelta(days=7)\n",
    "    \n",
    "Y=[y[-1] for y in L]\n",
    "\n",
    "print(L[0]) #accumulation value of first week\n",
    "#print(L[0][0])\n",
    "print(L[1]) #accumulation value of second week\n",
    "#print(L)\n",
    "print (Y) #sum for a week\n",
    "len(Y) #61 weeks"
   ]
  },
  {
   "cell_type": "markdown",
   "metadata": {},
   "source": [
    "Obtain the average cumulative number of visitors per day of the week.\n",
    "\n",
    "Average number of cumulative visitors until Wednesday = \n",
    "(Cumulative number of visitors on Wednesday in the 1st week + Cumulative number of visitors on Wednesday in the 2nd week + Cumulative number of visitors on Wednesday in the 3rd week ... + Cumulative number of visitors on Wednesday in 61st week) / 61\n",
    "\n",
    "Perform the above process from Monday to Sunday."
   ]
  },
  {
   "cell_type": "code",
   "execution_count": 9,
   "metadata": {},
   "outputs": [
    {
     "name": "stdout",
     "output_type": "stream",
     "text": [
      "[18304, 25515, 25398, 27342, 30290, 24930, 31244, 23435, 26230, 30993, 28259, 28743, 22435, 24591, 23084, 22825, 22771, 23382, 25608, 25559, 22104]\n",
      "[42624, 49464, 50391, 52214, 54428, 50013, 58468, 46630, 51844, 56640, 53911, 52332, 50425, 55661, 49172, 49128, 48685, 52698, 50332, 50682, 50392]\n",
      "21\n",
      "[25382, 51244, 76362, 99838, 122675, 145142, 168770]\n"
     ]
    }
   ],
   "source": [
    "b=[]\n",
    "def acc_rate(L):\n",
    "    for j in range(7):\n",
    "        a=[]\n",
    "        for i in range(21):\n",
    "            a.append(L[i][j])\n",
    "        b.append(a)   \n",
    "        \n",
    "acc_rate(L)\n",
    "\n",
    "print(b[0])#accumulation rate until monday\n",
    "print(b[1])#accumulation rate until tuesday\n",
    "print(len(b[0]))\n",
    "\n",
    "acc=[]\n",
    "for j in range(7):\n",
    "    acc.append(np.mean(b[j]))\n",
    "    acc[j]=math.trunc(acc[j])# round off to the nearest one\n",
    "print(acc)"
   ]
  },
  {
   "cell_type": "code",
   "execution_count": 34,
   "metadata": {},
   "outputs": [],
   "source": [
    "def lineplot(x_data, y_data, x_label=\"\", y_label=\"\", title=\"\"):\n",
    "    # Create the plot object\n",
    "    ax = plt.subplot()\n",
    "\n",
    "    # Plot the best fit line, set the linewidth (lw), color and\n",
    "    # transparency (alpha) of the line\n",
    "    ax.plot(x_data, y_data, lw=2, color = '#539caf')\n",
    "\n",
    "    # Label the axes and provide a title\n",
    "    ax.set_title(title)\n",
    "    ax.set_xlabel(x_label)\n",
    "    ax.set_ylabel(y_label)"
   ]
  },
  {
   "cell_type": "code",
   "execution_count": 35,
   "metadata": {
    "scrolled": true
   },
   "outputs": [
    {
     "data": {
      "image/png": "[encoded data removed]",
      "text/plain": [
       "<matplotlib.figure.Figure at 0x18c3e6e4898>"
      ]
     },
     "metadata": {},
     "output_type": "display_data"
    }
   ],
   "source": [
    "y_data=acc\n",
    "x_data=np.arange(len(y_data))\n",
    "LABELS = ['Mon','Tue','Wed','Thur','Fri','Sat','Sun']\n",
    "\n",
    "lineplot(x_data,y_data,\"day of week\",\"Number of visitors\",\"Accumulation rate per day of the week\")\n",
    "\n",
    "plt.bar(x_data, y_data, align='center')\n",
    "plt.xticks(x_data, LABELS)\n",
    "plt.show()"
   ]
  },
  {
   "cell_type": "markdown",
   "metadata": {},
   "source": [
    "As a matter of fact, sklearn's models often require vector-type data as input. The same is true for the LinearRegression model. Therefore, it is necessary to change the learning data of the time base from the basic type Integer type to List type. I did this in the block below."
   ]
  },
  {
   "cell_type": "code",
   "execution_count": 12,
   "metadata": {},
   "outputs": [
    {
     "name": "stdout",
     "output_type": "stream",
     "text": [
      "[[18304], [25515], [25398], [27342], [30290], [24930], [31244], [23435], [26230], [30993], [28259], [28743], [22435], [24591], [23084], [22825], [22771], [23382], [25608], [25559], [22104], [22650], [21744], [26943], [19422], [20139], [22302], [20675], [21168], [23720], [22869], [23328], [20750], [21344], [21479], [23340], [23405], [22650], [21846], [22644], [21502], [23136], [22822], [21210], [20800], [23071], [23914], [25222], [20640], [22308], [18447], [18189], [18249], [18993], [10617], [18133], [20447], [17836], [17183], [16516], [16086]]\n",
      "7 61\n"
     ]
    }
   ],
   "source": [
    "X={}\n",
    "for i, day in zip(range(7),range(7)):\n",
    "    data=list(map(lambda el: el[i], L))\n",
    "    X[day]=list(map(lambda el: [el], data))\n",
    "print(list(X[0]))    \n",
    "#X[0]: value of Mondays\n",
    "#X[1]: value of Tuesdays ...X[6]: value of Sundays\n",
    "print(len(X),len(X[0]))"
   ]
  },
  {
   "cell_type": "markdown",
   "metadata": {},
   "source": [
    "Learning is really easy once the data is ready. When I enter the learning data into the LinearRegression.fit () function, all learning begins. In the case of this project, it is almost complete because there are hundreds of learning data."
   ]
  },
  {
   "cell_type": "code",
   "execution_count": 24,
   "metadata": {},
   "outputs": [],
   "source": [
    "models={}\n",
    "for day in range(7):\n",
    "    model=LinearRegression(normalize=True)\n",
    "    model.fit(X[day],Y)\n",
    "    models[day]=model"
   ]
  },
  {
   "cell_type": "markdown",
   "metadata": {},
   "source": [
    "I got a well-learned model for each hour of the day. But how do you know if each model is well learned? There is a Coefficient of Determination as a general method for determining whether a linear model is suitable for a given data.\n",
    "\n",
    "In the case of the LinearRegression model, the decision coefficient can be obtained through a function called score. In other words, the lower the score, the less effective it is.\n",
    "\n",
    "Because this model is a linear regression with one parameter, two-thirds of the total data is used as a train set and the rest as a test set."
   ]
  },
  {
   "cell_type": "code",
   "execution_count": 29,
   "metadata": {},
   "outputs": [
    {
     "name": "stdout",
     "output_type": "stream",
     "text": [
      "[18318, 40432, 63787, 80853, 100803, 122783, 147040]\n",
      "[147040, 155870, 162785, 156976, 162082, 156442, 156300, 161162, 165909, 169001, 152215, 144228, 152278, 149505, 183339, 142974, 147788, 140360, 179791, 158563]\n"
     ]
    }
   ],
   "source": [
    "#test\n",
    "base_date=datetime(2017,11,6,0,0)\n",
    "\n",
    "L=[]\n",
    "for idx in range(20):\n",
    "    from_index=convert_to_index(base_date)\n",
    "    to_index=convert_to_index(base_date + timedelta(days=7))\n",
    "    x=df[(from_index<=df.index) & (df.index<to_index)]\n",
    "    L.append(x.Number.cumsum().tolist())\n",
    "    \n",
    "    base_date=base_date + timedelta(days=7)\n",
    "    \n",
    "Y_test=[y[-1] for y in L]\n",
    "\n",
    "print(L[0]) #first week\n",
    "print (Y_test) #sum for a week\n",
    "\n",
    "\n",
    "X_test={}\n",
    "for i in range(7):\n",
    "    X_test[i]=np.array(list(map(lambda el:el[i],L)))[:,None]\n",
    "    \n",
    "#print(X_test)"
   ]
  },
  {
   "cell_type": "code",
   "execution_count": 37,
   "metadata": {},
   "outputs": [
    {
     "name": "stdout",
     "output_type": "stream",
     "text": [
      "Model  Friday\n",
      "Score: 0.82\n"
     ]
    }
   ],
   "source": [
    "def score(day,models):\n",
    "    if day==0:\n",
    "        print ('Model  Monday')\n",
    "    elif day==1:\n",
    "        print ('Model  Tuesday')\n",
    "    elif day==2:\n",
    "        print ('Model  Wednesday')\n",
    "    elif day==3:\n",
    "        print ('Model  Thursday')\n",
    "    elif day==4:\n",
    "        print ('Model  Friday')\n",
    "    elif day==5:\n",
    "        print ('Model  Saturday') \n",
    "    else:\n",
    "        print('Model  Sunday')\n",
    "    print ('Score: %.2f' % models[day].score(X_test[day],Y_test))    \n",
    "        \n",
    "score(4,models)\n"
   ]
  },
  {
   "cell_type": "markdown",
   "metadata": {},
   "source": [
    "Now that the learning is over, I predicted the expected number of visitors per week with the model and test data. If there were 100,803 cumulative visitors this Friday, what would be the cumulative value by Sunday?\n",
    "\n",
    "Once the model is learned, the predicted results are confirmed through the predict command as shown below. Entering '100,803', which is the cumulative number of visitors until Friday, predicts the cumulative value of the week. The total cumulative value predicted by the model is 143,401, and the actual cumulative value of the corresponding week is 147,040. It can be seen that the result predicted through the cumulative number of visitors per day almost coincides with the actual weekly coincident cumulative value."
   ]
  },
  {
   "cell_type": "code",
   "execution_count": null,
   "metadata": {},
   "outputs": [],
   "source": [
    "print(int(models[4].predict(100803)[0]),Y_test[0])\n",
    "\n",
    "#Input the accumulation rate until Friday(100803)\n",
    "#-> machine predicts the weekly accumulative value as 143401\n",
    "#-> the actual value is 147040"
   ]
  }
 ],
 "metadata": {
  "kernelspec": {
   "display_name": "Python 3",
   "language": "python",
   "name": "python3"
  },
  "language_info": {
   "codemirror_mode": {
    "name": "ipython",
    "version": 3
   },
   "file_extension": ".py",
   "mimetype": "text/x-python",
   "name": "python",
   "nbconvert_exporter": "python",
   "pygments_lexer": "ipython3",
   "version": "3.6.5"
  }
 },
 "nbformat": 4,
 "nbformat_minor": 2
}
